{
 "cells": [
  {
   "cell_type": "markdown",
   "id": "a0b86a03",
   "metadata": {},
   "source": [
    "# TP 3"
   ]
  },
  {
   "cell_type": "markdown",
   "id": "ab6b55f2",
   "metadata": {},
   "source": [
    "## Exercice 2"
   ]
  },
  {
   "cell_type": "markdown",
   "id": "4ff626c4",
   "metadata": {},
   "source": [
    "## Q1: Charger le fichier de données cœur.txt sous Python"
   ]
  },
  {
   "cell_type": "code",
   "execution_count": 2,
   "id": "355a8a8e",
   "metadata": {},
   "outputs": [],
   "source": [
    "# importer les bibliothèques \n",
    "import pandas as pd \n",
    "import statistics\n",
    "df=pd.read_table(\"coeur.txt\",sep=\"\\t\")"
   ]
  },
  {
   "cell_type": "markdown",
   "id": "0b463fe8",
   "metadata": {},
   "source": [
    "## Q2: Vérifier que vous avez bien chargé le fichier"
   ]
  },
  {
   "cell_type": "code",
   "execution_count": 3,
   "id": "8f66e0d7",
   "metadata": {},
   "outputs": [
    {
     "name": "stdout",
     "output_type": "stream",
     "text": [
      "     age      sexe type_douleur  pression  cholester sucre electro  taux_max  \\\n",
      "0     70  masculin            D       130        322     A       C       109   \n",
      "1     67   feminin            C       115        564     A       C       160   \n",
      "2     57  masculin            B       124        261     A       A       141   \n",
      "3     64  masculin            D       128        263     A       A       105   \n",
      "4     74   feminin            B       120        269     A       C       121   \n",
      "..   ...       ...          ...       ...        ...   ...     ...       ...   \n",
      "265   52  masculin            C       172        199     B       A       162   \n",
      "266   44  masculin            B       120        263     A       A       173   \n",
      "267   56   feminin            B       140        294     A       C       153   \n",
      "268   57  masculin            D       140        192     A       A       148   \n",
      "269   67  masculin            D       160        286     A       C       108   \n",
      "\n",
      "    angine  depression  pic vaisseau     coeur  \n",
      "0      non          24    2        D  presence  \n",
      "1      non          16    2        A   absence  \n",
      "2      non           3    1        A  presence  \n",
      "3      oui           2    2        B   absence  \n",
      "4      oui           2    1        B   absence  \n",
      "..     ...         ...  ...      ...       ...  \n",
      "265    non           5    1        A   absence  \n",
      "266    non           0    1        A   absence  \n",
      "267    non          13    2        A   absence  \n",
      "268    non           4    2        A   absence  \n",
      "269    oui          15    2        D  presence  \n",
      "\n",
      "[270 rows x 13 columns]\n"
     ]
    }
   ],
   "source": [
    "df1=pd.DataFrame(df)\n",
    "print(df1)"
   ]
  },
  {
   "cell_type": "markdown",
   "id": "fff56689",
   "metadata": {},
   "source": [
    "## Q3: Afficher le nombre d’individus et de variables. "
   ]
  },
  {
   "cell_type": "code",
   "execution_count": 4,
   "id": "6da3fde3",
   "metadata": {},
   "outputs": [
    {
     "name": "stdout",
     "output_type": "stream",
     "text": [
      "(270, 13)\n"
     ]
    }
   ],
   "source": [
    "print(df.shape)"
   ]
  },
  {
   "cell_type": "markdown",
   "id": "7f5d179e",
   "metadata": {},
   "source": [
    "## Q4:les premières lignes de votre jeu de données"
   ]
  },
  {
   "cell_type": "code",
   "execution_count": 5,
   "id": "0af7b9ee",
   "metadata": {
    "scrolled": true
   },
   "outputs": [
    {
     "data": {
      "text/html": [
       "<div>\n",
       "<style scoped>\n",
       "    .dataframe tbody tr th:only-of-type {\n",
       "        vertical-align: middle;\n",
       "    }\n",
       "\n",
       "    .dataframe tbody tr th {\n",
       "        vertical-align: top;\n",
       "    }\n",
       "\n",
       "    .dataframe thead th {\n",
       "        text-align: right;\n",
       "    }\n",
       "</style>\n",
       "<table border=\"1\" class=\"dataframe\">\n",
       "  <thead>\n",
       "    <tr style=\"text-align: right;\">\n",
       "      <th></th>\n",
       "      <th>age</th>\n",
       "      <th>sexe</th>\n",
       "      <th>type_douleur</th>\n",
       "      <th>pression</th>\n",
       "      <th>cholester</th>\n",
       "      <th>sucre</th>\n",
       "      <th>electro</th>\n",
       "      <th>taux_max</th>\n",
       "      <th>angine</th>\n",
       "      <th>depression</th>\n",
       "      <th>pic</th>\n",
       "      <th>vaisseau</th>\n",
       "      <th>coeur</th>\n",
       "    </tr>\n",
       "  </thead>\n",
       "  <tbody>\n",
       "    <tr>\n",
       "      <th>0</th>\n",
       "      <td>70</td>\n",
       "      <td>masculin</td>\n",
       "      <td>D</td>\n",
       "      <td>130</td>\n",
       "      <td>322</td>\n",
       "      <td>A</td>\n",
       "      <td>C</td>\n",
       "      <td>109</td>\n",
       "      <td>non</td>\n",
       "      <td>24</td>\n",
       "      <td>2</td>\n",
       "      <td>D</td>\n",
       "      <td>presence</td>\n",
       "    </tr>\n",
       "    <tr>\n",
       "      <th>1</th>\n",
       "      <td>67</td>\n",
       "      <td>feminin</td>\n",
       "      <td>C</td>\n",
       "      <td>115</td>\n",
       "      <td>564</td>\n",
       "      <td>A</td>\n",
       "      <td>C</td>\n",
       "      <td>160</td>\n",
       "      <td>non</td>\n",
       "      <td>16</td>\n",
       "      <td>2</td>\n",
       "      <td>A</td>\n",
       "      <td>absence</td>\n",
       "    </tr>\n",
       "  </tbody>\n",
       "</table>\n",
       "</div>"
      ],
      "text/plain": [
       "   age      sexe type_douleur  pression  cholester sucre electro  taux_max  \\\n",
       "0   70  masculin            D       130        322     A       C       109   \n",
       "1   67   feminin            C       115        564     A       C       160   \n",
       "\n",
       "  angine  depression  pic vaisseau     coeur  \n",
       "0    non          24    2        D  presence  \n",
       "1    non          16    2        A   absence  "
      ]
     },
     "execution_count": 5,
     "metadata": {},
     "output_type": "execute_result"
    }
   ],
   "source": [
    "df1.head(2)"
   ]
  },
  {
   "cell_type": "markdown",
   "id": "d483f19d",
   "metadata": {},
   "source": [
    "## Q5:Les données contiennent-elles des valeurs manquantes ?"
   ]
  },
  {
   "cell_type": "code",
   "execution_count": 6,
   "id": "0df12d53",
   "metadata": {},
   "outputs": [
    {
     "name": "stdout",
     "output_type": "stream",
     "text": [
      "age             0\n",
      "sexe            0\n",
      "type_douleur    0\n",
      "pression        0\n",
      "cholester       0\n",
      "sucre           0\n",
      "electro         0\n",
      "taux_max        0\n",
      "angine          0\n",
      "depression      0\n",
      "pic             0\n",
      "vaisseau        0\n",
      "coeur           0\n",
      "dtype: int64\n"
     ]
    }
   ],
   "source": [
    "df_check=df.isnull().sum()\n",
    "print(df_check)\n",
    "# donc pas de données manquantes "
   ]
  },
  {
   "cell_type": "markdown",
   "id": "f6bb7cb7",
   "metadata": {},
   "source": [
    "## Q6:Donner une description rapide des données quelle que soit leur nature (describe()). "
   ]
  },
  {
   "cell_type": "code",
   "execution_count": 7,
   "id": "a6375429",
   "metadata": {},
   "outputs": [
    {
     "data": {
      "text/html": [
       "<div>\n",
       "<style scoped>\n",
       "    .dataframe tbody tr th:only-of-type {\n",
       "        vertical-align: middle;\n",
       "    }\n",
       "\n",
       "    .dataframe tbody tr th {\n",
       "        vertical-align: top;\n",
       "    }\n",
       "\n",
       "    .dataframe thead th {\n",
       "        text-align: right;\n",
       "    }\n",
       "</style>\n",
       "<table border=\"1\" class=\"dataframe\">\n",
       "  <thead>\n",
       "    <tr style=\"text-align: right;\">\n",
       "      <th></th>\n",
       "      <th>age</th>\n",
       "      <th>pression</th>\n",
       "      <th>cholester</th>\n",
       "      <th>taux_max</th>\n",
       "      <th>depression</th>\n",
       "      <th>pic</th>\n",
       "    </tr>\n",
       "  </thead>\n",
       "  <tbody>\n",
       "    <tr>\n",
       "      <th>count</th>\n",
       "      <td>270.000000</td>\n",
       "      <td>270.000000</td>\n",
       "      <td>270.000000</td>\n",
       "      <td>270.000000</td>\n",
       "      <td>270.000000</td>\n",
       "      <td>270.000000</td>\n",
       "    </tr>\n",
       "    <tr>\n",
       "      <th>mean</th>\n",
       "      <td>54.433333</td>\n",
       "      <td>131.344444</td>\n",
       "      <td>249.659259</td>\n",
       "      <td>149.677778</td>\n",
       "      <td>10.500000</td>\n",
       "      <td>1.585185</td>\n",
       "    </tr>\n",
       "    <tr>\n",
       "      <th>std</th>\n",
       "      <td>9.109067</td>\n",
       "      <td>17.861608</td>\n",
       "      <td>51.686237</td>\n",
       "      <td>23.165717</td>\n",
       "      <td>11.452098</td>\n",
       "      <td>0.614390</td>\n",
       "    </tr>\n",
       "    <tr>\n",
       "      <th>min</th>\n",
       "      <td>29.000000</td>\n",
       "      <td>94.000000</td>\n",
       "      <td>126.000000</td>\n",
       "      <td>71.000000</td>\n",
       "      <td>0.000000</td>\n",
       "      <td>1.000000</td>\n",
       "    </tr>\n",
       "    <tr>\n",
       "      <th>25%</th>\n",
       "      <td>48.000000</td>\n",
       "      <td>120.000000</td>\n",
       "      <td>213.000000</td>\n",
       "      <td>133.000000</td>\n",
       "      <td>0.000000</td>\n",
       "      <td>1.000000</td>\n",
       "    </tr>\n",
       "    <tr>\n",
       "      <th>50%</th>\n",
       "      <td>55.000000</td>\n",
       "      <td>130.000000</td>\n",
       "      <td>245.000000</td>\n",
       "      <td>153.500000</td>\n",
       "      <td>8.000000</td>\n",
       "      <td>2.000000</td>\n",
       "    </tr>\n",
       "    <tr>\n",
       "      <th>75%</th>\n",
       "      <td>61.000000</td>\n",
       "      <td>140.000000</td>\n",
       "      <td>280.000000</td>\n",
       "      <td>166.000000</td>\n",
       "      <td>16.000000</td>\n",
       "      <td>2.000000</td>\n",
       "    </tr>\n",
       "    <tr>\n",
       "      <th>max</th>\n",
       "      <td>77.000000</td>\n",
       "      <td>200.000000</td>\n",
       "      <td>564.000000</td>\n",
       "      <td>202.000000</td>\n",
       "      <td>62.000000</td>\n",
       "      <td>3.000000</td>\n",
       "    </tr>\n",
       "  </tbody>\n",
       "</table>\n",
       "</div>"
      ],
      "text/plain": [
       "              age    pression   cholester    taux_max  depression         pic\n",
       "count  270.000000  270.000000  270.000000  270.000000  270.000000  270.000000\n",
       "mean    54.433333  131.344444  249.659259  149.677778   10.500000    1.585185\n",
       "std      9.109067   17.861608   51.686237   23.165717   11.452098    0.614390\n",
       "min     29.000000   94.000000  126.000000   71.000000    0.000000    1.000000\n",
       "25%     48.000000  120.000000  213.000000  133.000000    0.000000    1.000000\n",
       "50%     55.000000  130.000000  245.000000  153.500000    8.000000    2.000000\n",
       "75%     61.000000  140.000000  280.000000  166.000000   16.000000    2.000000\n",
       "max     77.000000  200.000000  564.000000  202.000000   62.000000    3.000000"
      ]
     },
     "execution_count": 7,
     "metadata": {},
     "output_type": "execute_result"
    }
   ],
   "source": [
    "df1.describe()"
   ]
  },
  {
   "cell_type": "markdown",
   "id": "f60bca60",
   "metadata": {},
   "source": [
    "## Q7:Visualiser l’âge des patients. "
   ]
  },
  {
   "cell_type": "code",
   "execution_count": 8,
   "id": "dfd5fa9d",
   "metadata": {},
   "outputs": [
    {
     "data": {
      "text/plain": [
       "0      70\n",
       "1      67\n",
       "2      57\n",
       "3      64\n",
       "4      74\n",
       "       ..\n",
       "265    52\n",
       "266    44\n",
       "267    56\n",
       "268    57\n",
       "269    67\n",
       "Name: age, Length: 270, dtype: int64"
      ]
     },
     "execution_count": 8,
     "metadata": {},
     "output_type": "execute_result"
    }
   ],
   "source": [
    "df1[\"age\"]"
   ]
  },
  {
   "cell_type": "markdown",
   "id": "e730e9c5",
   "metadata": {},
   "source": [
    "## Q8:Calculer l’âge moyen des patients"
   ]
  },
  {
   "cell_type": "code",
   "execution_count": 9,
   "id": "6eacc4dd",
   "metadata": {},
   "outputs": [
    {
     "data": {
      "text/plain": [
       "54.43333333333333"
      ]
     },
     "execution_count": 9,
     "metadata": {},
     "output_type": "execute_result"
    }
   ],
   "source": [
    "statistics.mean(df1[\"age\"])"
   ]
  },
  {
   "cell_type": "markdown",
   "id": "4f01b5d0",
   "metadata": {},
   "source": [
    "## Q9:Donner le nombre de patients de chaque type de douleur. "
   ]
  },
  {
   "cell_type": "code",
   "execution_count": 10,
   "id": "4c23c140",
   "metadata": {},
   "outputs": [
    {
     "data": {
      "text/html": [
       "<div>\n",
       "<style scoped>\n",
       "    .dataframe tbody tr th:only-of-type {\n",
       "        vertical-align: middle;\n",
       "    }\n",
       "\n",
       "    .dataframe tbody tr th {\n",
       "        vertical-align: top;\n",
       "    }\n",
       "\n",
       "    .dataframe thead th {\n",
       "        text-align: right;\n",
       "    }\n",
       "</style>\n",
       "<table border=\"1\" class=\"dataframe\">\n",
       "  <thead>\n",
       "    <tr style=\"text-align: right;\">\n",
       "      <th></th>\n",
       "      <th>age</th>\n",
       "      <th>sexe</th>\n",
       "      <th>pression</th>\n",
       "      <th>cholester</th>\n",
       "      <th>sucre</th>\n",
       "      <th>electro</th>\n",
       "      <th>taux_max</th>\n",
       "      <th>angine</th>\n",
       "      <th>depression</th>\n",
       "      <th>pic</th>\n",
       "      <th>vaisseau</th>\n",
       "      <th>coeur</th>\n",
       "    </tr>\n",
       "    <tr>\n",
       "      <th>type_douleur</th>\n",
       "      <th></th>\n",
       "      <th></th>\n",
       "      <th></th>\n",
       "      <th></th>\n",
       "      <th></th>\n",
       "      <th></th>\n",
       "      <th></th>\n",
       "      <th></th>\n",
       "      <th></th>\n",
       "      <th></th>\n",
       "      <th></th>\n",
       "      <th></th>\n",
       "    </tr>\n",
       "  </thead>\n",
       "  <tbody>\n",
       "    <tr>\n",
       "      <th>A</th>\n",
       "      <td>20</td>\n",
       "      <td>20</td>\n",
       "      <td>20</td>\n",
       "      <td>20</td>\n",
       "      <td>20</td>\n",
       "      <td>20</td>\n",
       "      <td>20</td>\n",
       "      <td>20</td>\n",
       "      <td>20</td>\n",
       "      <td>20</td>\n",
       "      <td>20</td>\n",
       "      <td>20</td>\n",
       "    </tr>\n",
       "    <tr>\n",
       "      <th>B</th>\n",
       "      <td>42</td>\n",
       "      <td>42</td>\n",
       "      <td>42</td>\n",
       "      <td>42</td>\n",
       "      <td>42</td>\n",
       "      <td>42</td>\n",
       "      <td>42</td>\n",
       "      <td>42</td>\n",
       "      <td>42</td>\n",
       "      <td>42</td>\n",
       "      <td>42</td>\n",
       "      <td>42</td>\n",
       "    </tr>\n",
       "    <tr>\n",
       "      <th>C</th>\n",
       "      <td>79</td>\n",
       "      <td>79</td>\n",
       "      <td>79</td>\n",
       "      <td>79</td>\n",
       "      <td>79</td>\n",
       "      <td>79</td>\n",
       "      <td>79</td>\n",
       "      <td>79</td>\n",
       "      <td>79</td>\n",
       "      <td>79</td>\n",
       "      <td>79</td>\n",
       "      <td>79</td>\n",
       "    </tr>\n",
       "    <tr>\n",
       "      <th>D</th>\n",
       "      <td>129</td>\n",
       "      <td>129</td>\n",
       "      <td>129</td>\n",
       "      <td>129</td>\n",
       "      <td>129</td>\n",
       "      <td>129</td>\n",
       "      <td>129</td>\n",
       "      <td>129</td>\n",
       "      <td>129</td>\n",
       "      <td>129</td>\n",
       "      <td>129</td>\n",
       "      <td>129</td>\n",
       "    </tr>\n",
       "  </tbody>\n",
       "</table>\n",
       "</div>"
      ],
      "text/plain": [
       "              age  sexe  pression  cholester  sucre  electro  taux_max  \\\n",
       "type_douleur                                                             \n",
       "A              20    20        20         20     20       20        20   \n",
       "B              42    42        42         42     42       42        42   \n",
       "C              79    79        79         79     79       79        79   \n",
       "D             129   129       129        129    129      129       129   \n",
       "\n",
       "              angine  depression  pic  vaisseau  coeur  \n",
       "type_douleur                                            \n",
       "A                 20          20   20        20     20  \n",
       "B                 42          42   42        42     42  \n",
       "C                 79          79   79        79     79  \n",
       "D                129         129  129       129    129  "
      ]
     },
     "execution_count": 10,
     "metadata": {},
     "output_type": "execute_result"
    }
   ],
   "source": [
    "grk=df1.groupby(\"type_douleur\")\n",
    "grk.count()"
   ]
  },
  {
   "cell_type": "markdown",
   "id": "e34e911b",
   "metadata": {},
   "source": [
    "## Q10: Donner l’âge des 3 premiers patients, puis des 4 derniers"
   ]
  },
  {
   "cell_type": "code",
   "execution_count": 11,
   "id": "682bb20a",
   "metadata": {},
   "outputs": [
    {
     "name": "stdout",
     "output_type": "stream",
     "text": [
      "1    67\n",
      "2    57\n",
      "3    64\n",
      "Name: age, dtype: int64\n",
      "----------------\n",
      "266    44\n",
      "267    56\n",
      "268    57\n",
      "269    67\n",
      "Name: age, dtype: int64\n"
     ]
    }
   ],
   "source": [
    "print(df1[\"age\"][1:4])\n",
    "print(\"----------------\")\n",
    "\n",
    "print(df[\"age\"][-4:])"
   ]
  },
  {
   "cell_type": "markdown",
   "id": "ec8677d7",
   "metadata": {},
   "source": [
    "## Q11:trier les données selon l’âge de manière décroissante. \n"
   ]
  },
  {
   "cell_type": "code",
   "execution_count": 12,
   "id": "e87d312d",
   "metadata": {},
   "outputs": [
    {
     "name": "stdout",
     "output_type": "stream",
     "text": [
      "     age      sexe type_douleur  pression  cholester sucre electro  taux_max  \\\n",
      "199   77  masculin            D       125        304     A       C       162   \n",
      "73    76   feminin            C       140        197     A       B       116   \n",
      "4     74   feminin            B       120        269     A       C       121   \n",
      "255   71   feminin            B       160        302     A       A       162   \n",
      "15    71   feminin            D       112        149     A       A       125   \n",
      "..   ...       ...          ...       ...        ...   ...     ...       ...   \n",
      "81    35  masculin            D       120        198     A       A       130   \n",
      "193   35  masculin            D       126        282     A       C       156   \n",
      "174   34  masculin            A       118        182     A       C       174   \n",
      "138   34   feminin            B       118        210     A       A       192   \n",
      "214   29  masculin            B       130        204     A       C       202   \n",
      "\n",
      "    angine  depression  pic vaisseau     coeur  \n",
      "199    oui           0    1        D  presence  \n",
      "73     non          11    2        A   absence  \n",
      "4      oui           2    1        B   absence  \n",
      "255    non           4    1        C   absence  \n",
      "15     non          16    2        A   absence  \n",
      "..     ...         ...  ...      ...       ...  \n",
      "81     oui          16    2        A  presence  \n",
      "193    oui           0    1        A  presence  \n",
      "174    non           0    1        A   absence  \n",
      "138    non           7    1        A   absence  \n",
      "214    non           0    1        A   absence  \n",
      "\n",
      "[270 rows x 13 columns]\n"
     ]
    }
   ],
   "source": [
    "print(df1.sort_values(by=[\"age\"],ascending=False))"
   ]
  },
  {
   "cell_type": "markdown",
   "id": "044fbdfb",
   "metadata": {},
   "source": [
    "## Q12:Trier les données selon l’âge de manière croissante. Afficher les indices des 5 patients qui ont la plus grande valeur de la variable âge.\n"
   ]
  },
  {
   "cell_type": "code",
   "execution_count": 13,
   "id": "8bcc5b8f",
   "metadata": {},
   "outputs": [
    {
     "name": "stdout",
     "output_type": "stream",
     "text": [
      "15     71\n",
      "255    71\n",
      "4      74\n",
      "73     76\n",
      "199    77\n",
      "Name: age, dtype: int64\n"
     ]
    }
   ],
   "source": [
    "def3=(df1.sort_values(by=[\"age\"]))\n",
    "print(def3[\"age\"][-5:])"
   ]
  },
  {
   "cell_type": "markdown",
   "id": "49d6270d",
   "metadata": {},
   "source": [
    "# Q13:Afficher la moyenne pour toutes les valeurs numériques"
   ]
  },
  {
   "cell_type": "code",
   "execution_count": 14,
   "id": "20c19f3a",
   "metadata": {},
   "outputs": [
    {
     "data": {
      "text/plain": [
       "age            54.433333\n",
       "pression      131.344444\n",
       "cholester     249.659259\n",
       "taux_max      149.677778\n",
       "depression     10.500000\n",
       "pic             1.585185\n",
       "dtype: float64"
      ]
     },
     "execution_count": 14,
     "metadata": {},
     "output_type": "execute_result"
    }
   ],
   "source": [
    "df2=df1.select_dtypes(exclude=['object'])\n",
    "df2.mean()"
   ]
  },
  {
   "cell_type": "markdown",
   "id": "60e343fe",
   "metadata": {},
   "source": [
    "## Q14:Afficher la valeur située en dernière ligne et première colonne"
   ]
  },
  {
   "cell_type": "code",
   "execution_count": 15,
   "id": "db182929",
   "metadata": {},
   "outputs": [
    {
     "data": {
      "text/plain": [
       "age    67\n",
       "Name: 269, dtype: object"
      ]
     },
     "execution_count": 15,
     "metadata": {},
     "output_type": "execute_result"
    }
   ],
   "source": [
    "df1.iloc[-1,[0]]"
   ]
  },
  {
   "cell_type": "markdown",
   "id": "160d514c",
   "metadata": {},
   "source": [
    "## Q15:Afficher les 4 premières lignes et 2 premières colonnes. \n"
   ]
  },
  {
   "cell_type": "code",
   "execution_count": 16,
   "id": "fdc243df",
   "metadata": {},
   "outputs": [
    {
     "data": {
      "text/html": [
       "<div>\n",
       "<style scoped>\n",
       "    .dataframe tbody tr th:only-of-type {\n",
       "        vertical-align: middle;\n",
       "    }\n",
       "\n",
       "    .dataframe tbody tr th {\n",
       "        vertical-align: top;\n",
       "    }\n",
       "\n",
       "    .dataframe thead th {\n",
       "        text-align: right;\n",
       "    }\n",
       "</style>\n",
       "<table border=\"1\" class=\"dataframe\">\n",
       "  <thead>\n",
       "    <tr style=\"text-align: right;\">\n",
       "      <th></th>\n",
       "      <th>sexe</th>\n",
       "      <th>type_douleur</th>\n",
       "    </tr>\n",
       "  </thead>\n",
       "  <tbody>\n",
       "    <tr>\n",
       "      <th>1</th>\n",
       "      <td>feminin</td>\n",
       "      <td>C</td>\n",
       "    </tr>\n",
       "    <tr>\n",
       "      <th>2</th>\n",
       "      <td>masculin</td>\n",
       "      <td>B</td>\n",
       "    </tr>\n",
       "    <tr>\n",
       "      <th>3</th>\n",
       "      <td>masculin</td>\n",
       "      <td>D</td>\n",
       "    </tr>\n",
       "    <tr>\n",
       "      <th>4</th>\n",
       "      <td>feminin</td>\n",
       "      <td>B</td>\n",
       "    </tr>\n",
       "  </tbody>\n",
       "</table>\n",
       "</div>"
      ],
      "text/plain": [
       "       sexe type_douleur\n",
       "1   feminin            C\n",
       "2  masculin            B\n",
       "3  masculin            D\n",
       "4   feminin            B"
      ]
     },
     "execution_count": 16,
     "metadata": {},
     "output_type": "execute_result"
    }
   ],
   "source": [
    "df1.iloc[1:5,1:3]"
   ]
  },
  {
   "cell_type": "markdown",
   "id": "9f9e8271",
   "metadata": {},
   "source": [
    "## Q16:Afficher les 4 premières lignes mais uniquement sur les colonnes 0, 2 et 9. "
   ]
  },
  {
   "cell_type": "code",
   "execution_count": 17,
   "id": "9b618314",
   "metadata": {},
   "outputs": [
    {
     "data": {
      "text/html": [
       "<div>\n",
       "<style scoped>\n",
       "    .dataframe tbody tr th:only-of-type {\n",
       "        vertical-align: middle;\n",
       "    }\n",
       "\n",
       "    .dataframe tbody tr th {\n",
       "        vertical-align: top;\n",
       "    }\n",
       "\n",
       "    .dataframe thead th {\n",
       "        text-align: right;\n",
       "    }\n",
       "</style>\n",
       "<table border=\"1\" class=\"dataframe\">\n",
       "  <thead>\n",
       "    <tr style=\"text-align: right;\">\n",
       "      <th></th>\n",
       "      <th>age</th>\n",
       "      <th>type_douleur</th>\n",
       "      <th>depression</th>\n",
       "    </tr>\n",
       "  </thead>\n",
       "  <tbody>\n",
       "    <tr>\n",
       "      <th>0</th>\n",
       "      <td>70</td>\n",
       "      <td>D</td>\n",
       "      <td>24</td>\n",
       "    </tr>\n",
       "    <tr>\n",
       "      <th>1</th>\n",
       "      <td>67</td>\n",
       "      <td>C</td>\n",
       "      <td>16</td>\n",
       "    </tr>\n",
       "    <tr>\n",
       "      <th>2</th>\n",
       "      <td>57</td>\n",
       "      <td>B</td>\n",
       "      <td>3</td>\n",
       "    </tr>\n",
       "    <tr>\n",
       "      <th>3</th>\n",
       "      <td>64</td>\n",
       "      <td>D</td>\n",
       "      <td>2</td>\n",
       "    </tr>\n",
       "  </tbody>\n",
       "</table>\n",
       "</div>"
      ],
      "text/plain": [
       "   age type_douleur  depression\n",
       "0   70            D          24\n",
       "1   67            C          16\n",
       "2   57            B           3\n",
       "3   64            D           2"
      ]
     },
     "execution_count": 17,
     "metadata": {},
     "output_type": "execute_result"
    }
   ],
   "source": [
    "df1.iloc[0:4,[0,2,9]]"
   ]
  },
  {
   "cell_type": "markdown",
   "id": "5dbcd9c2",
   "metadata": {},
   "source": [
    "## Q17:Donner les patients présentant une douleur de type ‘A’. \n"
   ]
  },
  {
   "cell_type": "code",
   "execution_count": 18,
   "id": "f1f7fe9d",
   "metadata": {},
   "outputs": [],
   "source": [
    "az=df1[df1[\"type_douleur\"]==\"A\"]"
   ]
  },
  {
   "cell_type": "markdown",
   "id": "ba1e9712",
   "metadata": {},
   "source": [
    "## Q18:Donner le nombre de patients présentant une douleur de type ‘A’."
   ]
  },
  {
   "cell_type": "code",
   "execution_count": 19,
   "id": "31747411",
   "metadata": {},
   "outputs": [
    {
     "data": {
      "text/plain": [
       "20"
      ]
     },
     "execution_count": 19,
     "metadata": {},
     "output_type": "execute_result"
    }
   ],
   "source": [
    "az.shape[0]"
   ]
  },
  {
   "cell_type": "markdown",
   "id": "a3a40d0e",
   "metadata": {},
   "source": [
    "## Q19:Donner les patients présentant une douleur de type ‘D’ ou ‘B’"
   ]
  },
  {
   "cell_type": "code",
   "execution_count": 20,
   "id": "995f8d65",
   "metadata": {},
   "outputs": [
    {
     "name": "stdout",
     "output_type": "stream",
     "text": [
      "     age      sexe type_douleur  pression  cholester sucre electro  taux_max  \\\n",
      "0     70  masculin            D       130        322     A       C       109   \n",
      "2     57  masculin            B       124        261     A       A       141   \n",
      "3     64  masculin            D       128        263     A       A       105   \n",
      "4     74   feminin            B       120        269     A       C       121   \n",
      "5     65  masculin            D       120        177     A       A       140   \n",
      "..   ...       ...          ...       ...        ...   ...     ...       ...   \n",
      "264   48  masculin            B       110        229     A       A       168   \n",
      "266   44  masculin            B       120        263     A       A       173   \n",
      "267   56   feminin            B       140        294     A       C       153   \n",
      "268   57  masculin            D       140        192     A       A       148   \n",
      "269   67  masculin            D       160        286     A       C       108   \n",
      "\n",
      "    angine  depression  pic vaisseau     coeur  \n",
      "0      non          24    2        D  presence  \n",
      "2      non           3    1        A  presence  \n",
      "3      oui           2    2        B   absence  \n",
      "4      oui           2    1        B   absence  \n",
      "5      non           4    1        A   absence  \n",
      "..     ...         ...  ...      ...       ...  \n",
      "264    non          10    3        A  presence  \n",
      "266    non           0    1        A   absence  \n",
      "267    non          13    2        A   absence  \n",
      "268    non           4    2        A   absence  \n",
      "269    oui          15    2        D  presence  \n",
      "\n",
      "[171 rows x 13 columns]\n"
     ]
    }
   ],
   "source": [
    "az2=df1[(df1[\"type_douleur\"]==\"D\") | (df1[\"type_douleur\"]==\"B\") ]\n",
    "print(az2)"
   ]
  },
  {
   "cell_type": "markdown",
   "id": "e80e1c56",
   "metadata": {},
   "source": [
    "## Q20:Donner les patients présentant une douleur de type ‘A’ et une angine. "
   ]
  },
  {
   "cell_type": "code",
   "execution_count": 21,
   "id": "3970c440",
   "metadata": {},
   "outputs": [
    {
     "name": "stdout",
     "output_type": "stream",
     "text": [
      "     age      sexe type_douleur  pression  cholester sucre electro  taux_max  \\\n",
      "18    64  masculin            A       110        211     A       C       144   \n",
      "19    40  masculin            A       140        199     A       A       178   \n",
      "143   51  masculin            A       125        213     A       C       125   \n",
      "160   38  masculin            A       120        231     A       A       182   \n",
      "\n",
      "    angine  depression  pic vaisseau     coeur  \n",
      "18     oui          18    2        A   absence  \n",
      "19     oui          14    1        A   absence  \n",
      "143    oui          14    1        B   absence  \n",
      "160    oui          38    2        A  presence  \n"
     ]
    }
   ],
   "source": [
    "az3=df1[(df1[\"type_douleur\"]==\"A\") & (df1[\"angine\"]==\"oui\") ]\n",
    "print(az3)"
   ]
  },
  {
   "cell_type": "markdown",
   "id": "b1779f7d",
   "metadata": {},
   "source": [
    "## Q21: Donner les hommes âgés de moins de 45 ans présentant une maladie cardiaque"
   ]
  },
  {
   "cell_type": "code",
   "execution_count": 22,
   "id": "5f404f07",
   "metadata": {},
   "outputs": [
    {
     "name": "stdout",
     "output_type": "stream",
     "text": [
      "     age      sexe type_douleur  pression  cholester sucre electro  taux_max  \\\n",
      "0     70  masculin            D       130        322     A       C       109   \n",
      "2     57  masculin            B       124        261     A       A       141   \n",
      "6     56  masculin            C       130        256     B       C       142   \n",
      "7     59  masculin            D       110        239     A       C       142   \n",
      "8     60  masculin            D       140        293     A       C       170   \n",
      "..   ...       ...          ...       ...        ...   ...     ...       ...   \n",
      "258   64  masculin            C       140        335     A       A       158   \n",
      "261   60  masculin            D       130        206     A       C       132   \n",
      "262   58  masculin            B       120        284     A       C       160   \n",
      "264   48  masculin            B       110        229     A       A       168   \n",
      "269   67  masculin            D       160        286     A       C       108   \n",
      "\n",
      "    angine  depression  pic vaisseau     coeur  \n",
      "0      non          24    2        D  presence  \n",
      "2      non           3    1        A  presence  \n",
      "6      oui           6    2        B  presence  \n",
      "7      oui          12    2        B  presence  \n",
      "8      non          12    2        C  presence  \n",
      "..     ...         ...  ...      ...       ...  \n",
      "258    non           0    1        A  presence  \n",
      "261    oui          24    2        C  presence  \n",
      "262    non          18    2        A  presence  \n",
      "264    non          10    3        A  presence  \n",
      "269    oui          15    2        D  presence  \n",
      "\n",
      "[88 rows x 13 columns]\n"
     ]
    }
   ],
   "source": [
    "az4=df1[(df1[\"sexe\"]==\"masculin\") & (df1[\"age\"]>45) & (df1[\"coeur\"]==\"presence\") ]\n",
    "print(az4)"
   ]
  },
  {
   "cell_type": "markdown",
   "id": "9af48ea6",
   "metadata": {},
   "source": [
    "## Q22:Question précédente en limitant la réponse aux colonnes âge, sexe, cœur et tauxmax. \n"
   ]
  },
  {
   "cell_type": "code",
   "execution_count": 23,
   "id": "dc853304",
   "metadata": {},
   "outputs": [
    {
     "name": "stdout",
     "output_type": "stream",
     "text": [
      "     age      sexe  taux_max     coeur\n",
      "0     70  masculin       109  presence\n",
      "2     57  masculin       141  presence\n",
      "6     56  masculin       142  presence\n",
      "7     59  masculin       142  presence\n",
      "8     60  masculin       170  presence\n",
      "..   ...       ...       ...       ...\n",
      "258   64  masculin       158  presence\n",
      "261   60  masculin       132  presence\n",
      "262   58  masculin       160  presence\n",
      "264   48  masculin       168  presence\n",
      "269   67  masculin       108  presence\n",
      "\n",
      "[88 rows x 4 columns]\n"
     ]
    }
   ],
   "source": [
    "mycolone=['age','sexe',\"taux_max\",\"coeur\"]\n",
    "ma=df1[mycolone]\n",
    "az4=ma[(ma[\"sexe\"]==\"masculin\") & (ma[\"age\"]>45) & (ma[\"coeur\"]==\"presence\") ]\n",
    "print(az4)"
   ]
  },
  {
   "cell_type": "markdown",
   "id": "9ce8cdfc",
   "metadata": {},
   "source": [
    "## Q23: Croiser les variables sexe et cœur afin d’obtenir les fréquences"
   ]
  },
  {
   "cell_type": "code",
   "execution_count": 24,
   "id": "37050c30",
   "metadata": {},
   "outputs": [
    {
     "data": {
      "text/html": [
       "<div>\n",
       "<style scoped>\n",
       "    .dataframe tbody tr th:only-of-type {\n",
       "        vertical-align: middle;\n",
       "    }\n",
       "\n",
       "    .dataframe tbody tr th {\n",
       "        vertical-align: top;\n",
       "    }\n",
       "\n",
       "    .dataframe thead th {\n",
       "        text-align: right;\n",
       "    }\n",
       "</style>\n",
       "<table border=\"1\" class=\"dataframe\">\n",
       "  <thead>\n",
       "    <tr style=\"text-align: right;\">\n",
       "      <th>coeur</th>\n",
       "      <th>absence</th>\n",
       "      <th>presence</th>\n",
       "    </tr>\n",
       "    <tr>\n",
       "      <th>sexe</th>\n",
       "      <th></th>\n",
       "      <th></th>\n",
       "    </tr>\n",
       "  </thead>\n",
       "  <tbody>\n",
       "    <tr>\n",
       "      <th>feminin</th>\n",
       "      <td>67</td>\n",
       "      <td>20</td>\n",
       "    </tr>\n",
       "    <tr>\n",
       "      <th>masculin</th>\n",
       "      <td>83</td>\n",
       "      <td>100</td>\n",
       "    </tr>\n",
       "  </tbody>\n",
       "</table>\n",
       "</div>"
      ],
      "text/plain": [
       "coeur     absence  presence\n",
       "sexe                       \n",
       "feminin        67        20\n",
       "masculin       83       100"
      ]
     },
     "execution_count": 24,
     "metadata": {},
     "output_type": "execute_result"
    }
   ],
   "source": [
    "pd.crosstab(df1.sexe,df1.coeur)"
   ]
  },
  {
   "cell_type": "markdown",
   "id": "17d16c25",
   "metadata": {},
   "source": [
    "## Q24"
   ]
  },
  {
   "cell_type": "code",
   "execution_count": 25,
   "id": "2b58b24c",
   "metadata": {},
   "outputs": [
    {
     "name": "stdout",
     "output_type": "stream",
     "text": [
      "coeur       absence  presence\n",
      "sexe                         \n",
      "feminin   54.582090     59.35\n",
      "masculin  51.192771     56.04\n"
     ]
    }
   ],
   "source": [
    "print(pd.crosstab(df1['sexe'],df1['coeur'],values=df1['age'],aggfunc=pd.Series.mean)) "
   ]
  },
  {
   "cell_type": "markdown",
   "id": "763c0d05",
   "metadata": {},
   "source": [
    "## Q25:Donner le nombre d’hommes. \n"
   ]
  },
  {
   "cell_type": "code",
   "execution_count": 26,
   "id": "2293279a",
   "metadata": {},
   "outputs": [
    {
     "data": {
      "text/plain": [
       "masculin    183\n",
       "Name: sexe, dtype: int64"
      ]
     },
     "execution_count": 26,
     "metadata": {},
     "output_type": "execute_result"
    }
   ],
   "source": [
    "df3=df1[df1[\"sexe\"]==\"masculin\"]\n",
    "df3['sexe'].value_counts()"
   ]
  },
  {
   "cell_type": "markdown",
   "id": "18819fbe",
   "metadata": {},
   "source": [
    "## Q26:  Afficher pour chaque groupe (homme, femme), l’âge moyen"
   ]
  },
  {
   "cell_type": "code",
   "execution_count": 11,
   "id": "b16db9c2",
   "metadata": {},
   "outputs": [],
   "source": [
    "arz=[\"age\",\"sexe\"]\n",
    "op=df1[arz]\n",
    "op.groupby(\"sexe\").mean()"
   ]
  }
 ],
 "metadata": {
  "kernelspec": {
   "display_name": "Python 3",
   "language": "python",
   "name": "python3"
  },
  "language_info": {
   "codemirror_mode": {
    "name": "ipython",
    "version": 3
   },
   "file_extension": ".py",
   "mimetype": "text/x-python",
   "name": "python",
   "nbconvert_exporter": "python",
   "pygments_lexer": "ipython3",
   "version": "3.8.8"
  }
 },
 "nbformat": 4,
 "nbformat_minor": 5
}
